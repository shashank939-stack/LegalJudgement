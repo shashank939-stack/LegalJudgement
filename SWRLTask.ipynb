{
 "cells": [
  {
   "cell_type": "code",
   "execution_count": 7,
   "id": "a9f9d0d8",
   "metadata": {},
   "outputs": [],
   "source": [
    "import owlready2 as owl\n"
   ]
  },
  {
   "cell_type": "code",
   "execution_count": 8,
   "id": "d09394a9",
   "metadata": {},
   "outputs": [],
   "source": [
    "from owlready2 import *"
   ]
  },
  {
   "cell_type": "code",
   "execution_count": 9,
   "id": "cfd1c288",
   "metadata": {},
   "outputs": [],
   "source": [
    "owlready2.JAVA_EXE = \"C:/Program Files/Java/jdk-20.0.2/bin/java.exe\"\n",
    "onto = onto_path.append(\"C:/Users/archa/OneDrive/Documents/\")\n",
    "onto =get_ontology(\"C:/Users/archa/OneDrive/Documents/PracticeOnto.owl\")"
   ]
  },
  {
   "cell_type": "code",
   "execution_count": 10,
   "id": "8d52b326",
   "metadata": {},
   "outputs": [],
   "source": [
    "with onto:\n",
    "    class Person(owl.Thing):\n",
    "        pass\n",
    "    "
   ]
  },
  {
   "cell_type": "code",
   "execution_count": 12,
   "id": "faad0e6d",
   "metadata": {},
   "outputs": [],
   "source": [
    "with onto:\n",
    "    class has_brother(owl.ObjectProperty, owl.SymmetricProperty, owl.IrreflexiveProperty):\n",
    "        domain = [Person]\n",
    "        range = [Person]\n",
    "with onto:\n",
    "    class has_child(Person >> Person):\n",
    "        pass\n",
    "    \n",
    "with onto:\n",
    "    class has_uncle(Person >> Person):\n",
    "        pass    \n"
   ]
  },
  {
   "cell_type": "code",
   "execution_count": 15,
   "id": "717fdfad",
   "metadata": {},
   "outputs": [
    {
     "ename": "TypeError",
     "evalue": "'NoneType' object is not callable",
     "output_type": "error",
     "traceback": [
      "\u001b[1;31m---------------------------------------------------------------------------\u001b[0m",
      "\u001b[1;31mTypeError\u001b[0m                                 Traceback (most recent call last)",
      "Cell \u001b[1;32mIn[15], line 2\u001b[0m\n\u001b[0;32m      1\u001b[0m \u001b[38;5;28;01mwith\u001b[39;00m onto:\n\u001b[1;32m----> 2\u001b[0m     rule1 \u001b[38;5;241m=\u001b[39m \u001b[43mowl\u001b[49m\u001b[38;5;241;43m.\u001b[39;49m\u001b[43mImp\u001b[49m\u001b[43m(\u001b[49m\u001b[43m)\u001b[49m\n\u001b[0;32m      3\u001b[0m     rule1\u001b[38;5;241m.\u001b[39mset_as_rule(\n\u001b[0;32m      4\u001b[0m              \u001b[38;5;124m\"\u001b[39m\u001b[38;5;124mhas_brother(?p, ?b), has_child(?p, ?c) -> has_uncle(?c, ?b)\u001b[39m\u001b[38;5;124m\"\u001b[39m\n\u001b[0;32m      5\u001b[0m )\n\u001b[0;32m      6\u001b[0m \u001b[38;5;28;01mwith\u001b[39;00m onto:rule2 \u001b[38;5;241m=\u001b[39m owl\u001b[38;5;241m.\u001b[39mImp()\n",
      "\u001b[1;31mTypeError\u001b[0m: 'NoneType' object is not callable"
     ]
    }
   ],
   "source": [
    "with onto:\n",
    "    rule1 = owl.Imp()\n",
    "    rule1.set_as_rule(\n",
    "             \"has_brother(?p, ?b), has_child(?p, ?c) -> has_uncle(?c, ?b)\"\n",
    ")\n",
    "with onto:rule2 = owl.Imp()\n",
    "rule2.set_as_rule(\n",
    "        \"has_brother(?a, ?b), has_brother(?b, ?c), differentFrom(?a, ?c) -> has_brother(?a, ?c)\"\n",
    "    )\n"
   ]
  },
  {
   "cell_type": "code",
   "execution_count": 2,
   "id": "0a48a210",
   "metadata": {},
   "outputs": [
    {
     "ename": "NameError",
     "evalue": "name 'onto' is not defined",
     "output_type": "error",
     "traceback": [
      "\u001b[1;31m---------------------------------------------------------------------------\u001b[0m",
      "\u001b[1;31mNameError\u001b[0m                                 Traceback (most recent call last)",
      "Cell \u001b[1;32mIn[2], line 1\u001b[0m\n\u001b[1;32m----> 1\u001b[0m \u001b[43monto\u001b[49m\u001b[38;5;241m.\u001b[39msave()\n",
      "\u001b[1;31mNameError\u001b[0m: name 'onto' is not defined"
     ]
    }
   ],
   "source": [
    "onto.save()"
   ]
  },
  {
   "cell_type": "code",
   "execution_count": 33,
   "id": "c542b264",
   "metadata": {},
   "outputs": [
    {
     "data": {
      "text/plain": [
       "AllDisjoint([PracticeOnto.David, PracticeOnto.John, PracticeOnto.Pete, PracticeOnto.Anna, PracticeOnto.Simon])"
      ]
     },
     "execution_count": 33,
     "metadata": {},
     "output_type": "execute_result"
    }
   ],
   "source": [
    "david = Person(\"David\")\n",
    "john = Person(\"John\")\n",
    "pete = Person(\"Pete\")\n",
    "anna = Person(\"Anna\")\n",
    "simon = Person(\"Simon\")\n",
    "owl.AllDifferent([david, john, pete, anna, simon])"
   ]
  },
  {
   "cell_type": "code",
   "execution_count": 34,
   "id": "63b862e2",
   "metadata": {},
   "outputs": [],
   "source": [
    "onto.save()"
   ]
  },
  {
   "cell_type": "code",
   "execution_count": 35,
   "id": "11e8ca2c",
   "metadata": {},
   "outputs": [],
   "source": [
    "david.has_brother.extend([john, pete])\n",
    "john.has_child.append(anna)\n",
    "pete.has_child.append(simon)"
   ]
  },
  {
   "cell_type": "code",
   "execution_count": 36,
   "id": "411f980e",
   "metadata": {},
   "outputs": [],
   "source": [
    "onto.save()"
   ]
  },
  {
   "cell_type": "code",
   "execution_count": 37,
   "id": "a85e66ab",
   "metadata": {},
   "outputs": [
    {
     "name": "stdout",
     "output_type": "stream",
     "text": [
      "Uncles of Anna: []\n",
      "Uncles of Simon: []\n"
     ]
    }
   ],
   "source": [
    "print(\"Uncles of Anna:\", anna.has_uncle) # -> []\n",
    "print(\"Uncles of Simon:\", simon.has_uncle) # -> []"
   ]
  },
  {
   "cell_type": "code",
   "execution_count": 39,
   "id": "694f8490",
   "metadata": {},
   "outputs": [
    {
     "name": "stderr",
     "output_type": "stream",
     "text": [
      "* Owlready2 * Running HermiT...\n",
      "    C:/Program Files/Java/jdk-20.0.2/bin/java.exe -Xmx2000M -cp C:\\Users\\archa\\anaconda3\\lib\\site-packages\\owlready2\\hermit;C:\\Users\\archa\\anaconda3\\lib\\site-packages\\owlready2\\hermit\\HermiT.jar org.semanticweb.HermiT.cli.CommandLine -c -O -D -I file:///C:/Users/archa/AppData/Local/Temp/tmprigcar2u -Y\n"
     ]
    },
    {
     "name": "stdout",
     "output_type": "stream",
     "text": [
      "Uncles of Anna: [PracticeOnto.Pete, PracticeOnto.David]\n",
      "Uncles of Simon: [PracticeOnto.David, PracticeOnto.John]\n"
     ]
    },
    {
     "name": "stderr",
     "output_type": "stream",
     "text": [
      "* Owlready2 * HermiT took 0.5815894603729248 seconds\n",
      "* Owlready * (NB: only changes on entities loaded in Python are shown, other changes are done but not listed)\n"
     ]
    }
   ],
   "source": [
    "owl.sync_reasoner(infer_property_values=True)\n",
    "print(\"Uncles of Anna:\", anna.has_uncle) # -> [onto.Pete, onto.David]\n",
    "print(\"Uncles of Simon:\", simon.has_uncle) # -> [onto.John, onto.David]"
   ]
  },
  {
   "cell_type": "code",
   "execution_count": null,
   "id": "583b11b9",
   "metadata": {},
   "outputs": [],
   "source": []
  },
  {
   "cell_type": "code",
   "execution_count": null,
   "id": "5f1fe9f7",
   "metadata": {},
   "outputs": [],
   "source": []
  },
  {
   "cell_type": "code",
   "execution_count": null,
   "id": "e244bef3",
   "metadata": {},
   "outputs": [],
   "source": []
  },
  {
   "cell_type": "code",
   "execution_count": null,
   "id": "d765d873",
   "metadata": {},
   "outputs": [],
   "source": []
  },
  {
   "cell_type": "code",
   "execution_count": null,
   "id": "78403767",
   "metadata": {},
   "outputs": [],
   "source": []
  },
  {
   "cell_type": "code",
   "execution_count": null,
   "id": "59365f2a",
   "metadata": {},
   "outputs": [],
   "source": []
  }
 ],
 "metadata": {
  "kernelspec": {
   "display_name": "Python 3 (ipykernel)",
   "language": "python",
   "name": "python3"
  },
  "language_info": {
   "codemirror_mode": {
    "name": "ipython",
    "version": 3
   },
   "file_extension": ".py",
   "mimetype": "text/x-python",
   "name": "python",
   "nbconvert_exporter": "python",
   "pygments_lexer": "ipython3",
   "version": "3.10.9"
  }
 },
 "nbformat": 4,
 "nbformat_minor": 5
}
