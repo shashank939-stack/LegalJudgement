{
 "cells": [
  {
   "cell_type": "code",
   "execution_count": 3,
   "id": "a8af3d5d",
   "metadata": {},
   "outputs": [],
   "source": [
    "from owlready2 import *\n"
   ]
  },
  {
   "cell_type": "code",
   "execution_count": 4,
   "id": "742d5f4a",
   "metadata": {},
   "outputs": [
    {
     "data": {
      "text/plain": [
       "get_ontology(\"C:/Users/archa/OneDrive/Documents/newOnto.owl#\")"
      ]
     },
     "execution_count": 4,
     "metadata": {},
     "output_type": "execute_result"
    }
   ],
   "source": [
    "owlready2.JAVA_EXE = \"C:/Program Files/Java/jdk-20.0.2/bin/java.exe\"\n",
    "onto = onto_path.append(\"C:/Users/archa/OneDrive/Documents/\")\n",
    "onto =get_ontology(\"C:/Users/archa/OneDrive/Documents/newOnto.owl\")\n",
    "onto.load()"
   ]
  },
  {
   "cell_type": "code",
   "execution_count": 5,
   "id": "0a8b181b",
   "metadata": {},
   "outputs": [
    {
     "data": {
      "text/plain": [
       "[newOnto.Drug, newOnto.DrugAssociation, newOnto.Listof, newOnto.MyBudget]"
      ]
     },
     "execution_count": 5,
     "metadata": {},
     "output_type": "execute_result"
    }
   ],
   "source": [
    "list(onto.classes())"
   ]
  },
  {
   "cell_type": "code",
   "execution_count": 6,
   "id": "3a7b88f6",
   "metadata": {},
   "outputs": [],
   "source": [
    "with onto:\n",
    "    class Drug(Thing): pass\n",
    "    class number_of_tablets(Drug >> int, FunctionalProperty): pass\n",
    "    class price(Drug >> float, FunctionalProperty): pass\n",
    "    class price_per_tablet(Drug >> float, FunctionalProperty): pass\n",
    "    rule = Imp()\n",
    "    rule.set_as_rule(\"\"\"Drug(?d), price(?d, ?p), number_of_tablets(?d, ?n), divide(?r, ?p, ?n) -> price_per_tablet(?d, ?r)\"\"\")"
   ]
  },
  {
   "cell_type": "code",
   "execution_count": 8,
   "id": "1d58917a",
   "metadata": {},
   "outputs": [
    {
     "name": "stderr",
     "output_type": "stream",
     "text": [
      "* Owlready2 * Running Pellet...\n",
      "    C:/Program Files/Java/jdk-20.0.2/bin/java.exe -Xmx2000M -cp C:\\Users\\archa\\anaconda3\\lib\\site-packages\\owlready2\\pellet\\antlr-3.2.jar;C:\\Users\\archa\\anaconda3\\lib\\site-packages\\owlready2\\pellet\\antlr-runtime-3.2.jar;C:\\Users\\archa\\anaconda3\\lib\\site-packages\\owlready2\\pellet\\aterm-java-1.6.jar;C:\\Users\\archa\\anaconda3\\lib\\site-packages\\owlready2\\pellet\\commons-codec-1.6.jar;C:\\Users\\archa\\anaconda3\\lib\\site-packages\\owlready2\\pellet\\httpclient-4.2.3.jar;C:\\Users\\archa\\anaconda3\\lib\\site-packages\\owlready2\\pellet\\httpcore-4.2.2.jar;C:\\Users\\archa\\anaconda3\\lib\\site-packages\\owlready2\\pellet\\jcl-over-slf4j-1.6.4.jar;C:\\Users\\archa\\anaconda3\\lib\\site-packages\\owlready2\\pellet\\jena-arq-2.10.0.jar;C:\\Users\\archa\\anaconda3\\lib\\site-packages\\owlready2\\pellet\\jena-core-2.10.0.jar;C:\\Users\\archa\\anaconda3\\lib\\site-packages\\owlready2\\pellet\\jena-iri-0.9.5.jar;C:\\Users\\archa\\anaconda3\\lib\\site-packages\\owlready2\\pellet\\jena-tdb-0.10.0.jar;C:\\Users\\archa\\anaconda3\\lib\\site-packages\\owlready2\\pellet\\jgrapht-jdk1.5.jar;C:\\Users\\archa\\anaconda3\\lib\\site-packages\\owlready2\\pellet\\log4j-1.2-api-2.19.0.jar;C:\\Users\\archa\\anaconda3\\lib\\site-packages\\owlready2\\pellet\\log4j-api-2.19.0.jar;C:\\Users\\archa\\anaconda3\\lib\\site-packages\\owlready2\\pellet\\log4j-core-2.19.0.jar;C:\\Users\\archa\\anaconda3\\lib\\site-packages\\owlready2\\pellet\\owlapi-distribution-3.4.3-bin.jar;C:\\Users\\archa\\anaconda3\\lib\\site-packages\\owlready2\\pellet\\pellet-2.3.1.jar;C:\\Users\\archa\\anaconda3\\lib\\site-packages\\owlready2\\pellet\\slf4j-api-1.6.4.jar;C:\\Users\\archa\\anaconda3\\lib\\site-packages\\owlready2\\pellet\\slf4j-log4j12-1.6.4.jar;C:\\Users\\archa\\anaconda3\\lib\\site-packages\\owlready2\\pellet\\xercesImpl-2.10.0.jar;C:\\Users\\archa\\anaconda3\\lib\\site-packages\\owlready2\\pellet\\xml-apis-1.4.01.jar pellet.Pellet realize --loader Jena --input-format N-Triples --infer-prop-values --infer-data-prop-values --ignore-imports C:\\Users\\archa\\AppData\\Local\\Temp\\tmpf80f4w90\n"
     ]
    },
    {
     "name": "stdout",
     "output_type": "stream",
     "text": [
      "* Owlready * Adding relation newOnto.drug12 price_per_tablet 2.5\n",
      "* Owlready * Adding relation newOnto.drug13 price_per_tablet 2.5\n"
     ]
    },
    {
     "name": "stderr",
     "output_type": "stream",
     "text": [
      "* Owlready2 * Pellet took 1.3236467838287354 seconds\n",
      "* Owlready * (NB: only changes on entities loaded in Python are shown, other changes are done but not listed)\n"
     ]
    },
    {
     "data": {
      "text/plain": [
       "2.5"
      ]
     },
     "execution_count": 8,
     "metadata": {},
     "output_type": "execute_result"
    }
   ],
   "source": [
    "drug = Drug(number_of_tablets = 10, price = 25.0)\n",
    "sync_reasoner_pellet(infer_property_values = True, infer_data_property_values = True)\n",
    "drug.price_per_tablet"
   ]
  },
  {
   "cell_type": "code",
   "execution_count": 10,
   "id": "88654b82",
   "metadata": {},
   "outputs": [
    {
     "name": "stdout",
     "output_type": "stream",
     "text": [
      "drugist\n"
     ]
    }
   ],
   "source": [
    "my_drug=Drug(\"drugist\") #creating individual\n",
    "print(my_drug.name)\n",
    "onto.save()"
   ]
  },
  {
   "cell_type": "code",
   "execution_count": 11,
   "id": "fdda5054",
   "metadata": {},
   "outputs": [
    {
     "name": "stdout",
     "output_type": "stream",
     "text": [
      "newOnto.drug1\n",
      "newOnto.drug2\n",
      "newOnto.drugist\n",
      "newOnto.drug3\n",
      "newOnto.drug4\n",
      "newOnto.drug5\n",
      "newOnto.drug6\n",
      "newOnto.drug7\n",
      "newOnto.drug8\n",
      "newOnto.drug9\n",
      "newOnto.drug10\n",
      "newOnto.drug11\n",
      "newOnto.drug12\n",
      "newOnto.drug13\n"
     ]
    }
   ],
   "source": [
    "for i in Drug.instances():print(i) #search for all"
   ]
  },
  {
   "cell_type": "code",
   "execution_count": 15,
   "id": "36d32a26",
   "metadata": {},
   "outputs": [
    {
     "data": {
      "text/plain": [
       "set()"
      ]
     },
     "execution_count": 15,
     "metadata": {},
     "output_type": "execute_result"
    }
   ],
   "source": [
    "onto.drug1.get_properties()"
   ]
  },
  {
   "cell_type": "code",
   "execution_count": 16,
   "id": "a0187774",
   "metadata": {},
   "outputs": [],
   "source": [
    "with onto: \n",
    "    def get_per_tablet_cost(self):\n",
    "         return self.cost / self.number_of_tablets"
   ]
  },
  {
   "cell_type": "code",
   "execution_count": 17,
   "id": "f9bc4eff",
   "metadata": {},
   "outputs": [],
   "source": [
    "with onto:\n",
    "    class has_for_cost(Drug >> float, FunctionalProperty):\n",
    "        python_name = \"cost\""
   ]
  },
  {
   "cell_type": "code",
   "execution_count": null,
   "id": "be5742a4",
   "metadata": {},
   "outputs": [],
   "source": []
  },
  {
   "cell_type": "code",
   "execution_count": null,
   "id": "2458961d",
   "metadata": {},
   "outputs": [],
   "source": []
  },
  {
   "cell_type": "code",
   "execution_count": 12,
   "id": "cc7e4b77",
   "metadata": {
    "scrolled": false
   },
   "outputs": [
    {
     "name": "stderr",
     "output_type": "stream",
     "text": [
      "* Owlready2 * Running Pellet...\n",
      "    C:/Program Files/Java/jdk-20.0.2/bin/java.exe -Xmx2000M -cp C:\\Users\\archa\\anaconda3\\lib\\site-packages\\owlready2\\pellet\\antlr-3.2.jar;C:\\Users\\archa\\anaconda3\\lib\\site-packages\\owlready2\\pellet\\antlr-runtime-3.2.jar;C:\\Users\\archa\\anaconda3\\lib\\site-packages\\owlready2\\pellet\\aterm-java-1.6.jar;C:\\Users\\archa\\anaconda3\\lib\\site-packages\\owlready2\\pellet\\commons-codec-1.6.jar;C:\\Users\\archa\\anaconda3\\lib\\site-packages\\owlready2\\pellet\\httpclient-4.2.3.jar;C:\\Users\\archa\\anaconda3\\lib\\site-packages\\owlready2\\pellet\\httpcore-4.2.2.jar;C:\\Users\\archa\\anaconda3\\lib\\site-packages\\owlready2\\pellet\\jcl-over-slf4j-1.6.4.jar;C:\\Users\\archa\\anaconda3\\lib\\site-packages\\owlready2\\pellet\\jena-arq-2.10.0.jar;C:\\Users\\archa\\anaconda3\\lib\\site-packages\\owlready2\\pellet\\jena-core-2.10.0.jar;C:\\Users\\archa\\anaconda3\\lib\\site-packages\\owlready2\\pellet\\jena-iri-0.9.5.jar;C:\\Users\\archa\\anaconda3\\lib\\site-packages\\owlready2\\pellet\\jena-tdb-0.10.0.jar;C:\\Users\\archa\\anaconda3\\lib\\site-packages\\owlready2\\pellet\\jgrapht-jdk1.5.jar;C:\\Users\\archa\\anaconda3\\lib\\site-packages\\owlready2\\pellet\\log4j-1.2-api-2.19.0.jar;C:\\Users\\archa\\anaconda3\\lib\\site-packages\\owlready2\\pellet\\log4j-api-2.19.0.jar;C:\\Users\\archa\\anaconda3\\lib\\site-packages\\owlready2\\pellet\\log4j-core-2.19.0.jar;C:\\Users\\archa\\anaconda3\\lib\\site-packages\\owlready2\\pellet\\owlapi-distribution-3.4.3-bin.jar;C:\\Users\\archa\\anaconda3\\lib\\site-packages\\owlready2\\pellet\\pellet-2.3.1.jar;C:\\Users\\archa\\anaconda3\\lib\\site-packages\\owlready2\\pellet\\slf4j-api-1.6.4.jar;C:\\Users\\archa\\anaconda3\\lib\\site-packages\\owlready2\\pellet\\slf4j-log4j12-1.6.4.jar;C:\\Users\\archa\\anaconda3\\lib\\site-packages\\owlready2\\pellet\\xercesImpl-2.10.0.jar;C:\\Users\\archa\\anaconda3\\lib\\site-packages\\owlready2\\pellet\\xml-apis-1.4.01.jar pellet.Pellet realize --loader Jena --input-format N-Triples --infer-prop-values --infer-data-prop-values --ignore-imports C:\\Users\\archa\\AppData\\Local\\Temp\\tmp6f2z0z7b\n"
     ]
    },
    {
     "name": "stdout",
     "output_type": "stream",
     "text": [
      "* Owlready * Adding relation newOnto.drug14 price_per_tablet 2.5\n"
     ]
    },
    {
     "name": "stderr",
     "output_type": "stream",
     "text": [
      "* Owlready2 * Pellet took 1.4357450008392334 seconds\n",
      "* Owlready * (NB: only changes on entities loaded in Python are shown, other changes are done but not listed)\n"
     ]
    },
    {
     "data": {
      "text/plain": [
       "2.5"
      ]
     },
     "execution_count": 12,
     "metadata": {},
     "output_type": "execute_result"
    }
   ],
   "source": [
    "drug = Drug(number_of_tablets = 10, price = 25.0)\n",
    "sync_reasoner_pellet(infer_property_values = True, infer_data_property_values = True)\n",
    "drug.price_per_tablet\n"
   ]
  }
 ],
 "metadata": {
  "kernelspec": {
   "display_name": "Python 3 (ipykernel)",
   "language": "python",
   "name": "python3"
  },
  "language_info": {
   "codemirror_mode": {
    "name": "ipython",
    "version": 3
   },
   "file_extension": ".py",
   "mimetype": "text/x-python",
   "name": "python",
   "nbconvert_exporter": "python",
   "pygments_lexer": "ipython3",
   "version": "3.10.9"
  }
 },
 "nbformat": 4,
 "nbformat_minor": 5
}
